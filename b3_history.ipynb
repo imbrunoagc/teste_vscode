{
 "cells": [
  {
   "cell_type": "code",
   "execution_count": 19,
   "metadata": {},
   "outputs": [],
   "source": [
    "import pandas as pd"
   ]
  },
  {
   "cell_type": "code",
   "execution_count": 20,
   "metadata": {},
   "outputs": [],
   "source": [
    "def read_files (path, name_file, year_date, type_file):\n",
    "\n",
    "    _file = f'{path}{name_file}{year_date}.{type_file}'\n",
    "\n",
    "    colspecs = [(2,10), \n",
    "                (10,12),\n",
    "                (12,24),\n",
    "                (27,39),\n",
    "                (56,69),\n",
    "                (69,82),\n",
    "                (82,95),\n",
    "                (108,121),\n",
    "                (152,170),\n",
    "                (170,188)\n",
    "                ]\n",
    "\n",
    "    names_col = ['data_pregao', 'codbdi', 'sigla_acao', 'nome_acao', 'preco_abertura', 'preco_max', 'preco_min', 'preco_fechamento', 'qtd_ngc', 'volume_ngc']\n",
    "\n",
    "    df = pd.read_fwf(_file, colspecs=colspecs, names=names_col, skiprows = 1 )\n",
    "\n",
    "    return df"
   ]
  },
  {
   "cell_type": "code",
   "execution_count": 21,
   "metadata": {},
   "outputs": [],
   "source": [
    "# Filtrar o lote padrão\n",
    "\n",
    "def filter_stocks(df):\n",
    "\n",
    "    df = df[df['codbdi'] == 2]\n",
    "    df = df.drop(['codbdi'], 1)\n",
    "\n",
    "    return df"
   ]
  },
  {
   "cell_type": "code",
   "execution_count": 22,
   "metadata": {},
   "outputs": [],
   "source": [
    "# Ajuste campo de data\n",
    "\n",
    "def parse_date(df):\n",
    "\n",
    "    df['data_pregao'] = pd.to_datetime(df['data_pregao'], format='%Y%m%d')\n",
    "\n",
    "    return df"
   
   ]
  },
  {
   "cell_type": "code",
   "execution_count": 23,
   "metadata": {},
   "outputs": [],
   "source": [
    "# Ajustes dos campos numericos\n",
    "\n",
    "def parse_values(df):\n",
    "    df['preco_abertura'] = ( df['preco_abertura'] / 100).astype(float)\n",
    "    df['preco_max'] = ( df['preco_max'] / 100).astype(float)\n",
    "    df['preco_min'] = ( df['preco_min'] / 100).astype(float)\n",
    "    df['preco_fechamento'] = ( df['preco_fechamento'] / 100).astype(float)\n",
    "    df['volume_ngc'] = ( df['volume_ngc']).astype(int)\n",
    "    df['qtd_ngc'] = ( df['qtd_ngc']).astype(int)\n",
    "\n",
    "    return df"
   ]
  },
  {
   "cell_type": "code",
   "execution_count": 24,
   "metadata": {},
   "outputs": [],
   "source": [
    "# Juntando os arquivos\n",
    "\n",
    "def concat_files(path, name_file, year_date, type_file, final_file):\n",
    "    for i, y in enumerate(year_date):\n",
    "        df = read_files(path, name_file, y, type_file)\n",
    "        df = filter_stocks(df)\n",
    "        df = parse_date(df)\n",
    "        df = parse_values(df)\n",
    "\n",
    "        if i == 0:\n",
    "            df_final = df\n",
    "        else:\n",
    "            df_final = pd.concat([df_final, df])\n",
    "\n",
    "    df_final.to_csv(f'{path}//{final_file}', index = False)"
   ]
  },
  {
   "cell_type": "code",
   "execution_count": 31,
   "metadata": {},
   "outputs": [
    {
     "name": "stderr",
     "output_type": "stream",
     "text": [
      "C:\\Users\\BRZN\\AppData\\Local\\Temp\\ipykernel_17112\\3280054500.py:6: FutureWarning: In a future version of pandas all arguments of DataFrame.drop except for the argument 'labels' will be keyword-only.\n",
      "  df = df.drop(['codbdi'], 1)\n",
      "C:\\Users\\BRZN\\AppData\\Local\\Temp\\ipykernel_17112\\3280054500.py:6: FutureWarning: In a future version of pandas all arguments of DataFrame.drop except for the argument 'labels' will be keyword-only.\n",
      "  df = df.drop(['codbdi'], 1)\n"
     ]
    }
   ],
   "source": [
    "# Executando código do ETL\n",
    "\n",
    "year_date = ['2021', '2022']\n",
    "\n",
    "path = f'C://Users//BRZN//PycharmProjects//b3//'\n",
    "\n",
    "name_file = 'COTAHIST_A'\n",
    "\n",
    "type_file = 'txt'\n",
    "\n",
    "final_file = 'all_bovespa.csv'\n",
    "\n",
    "concat_files(path, name_file, year_date, type_file, final_file)"
   ]
  },
  {
   "cell_type": "code",
   "execution_count": null,
   "metadata": {},
   "outputs": [],
   "source": []
  }
 ],
 "metadata": {
  "kernelspec": {
   "display_name": "Python 3.10.6 64-bit",
   "language": "python",
   "name": "python3"
  },
  "language_info": {
   "codemirror_mode": {
    "name": "ipython",
    "version": 3
   },
   "file_extension": ".py",
   "mimetype": "text/x-python",
   "name": "python",
   "nbconvert_exporter": "python",
   "pygments_lexer": "ipython3",
   "version": "3.10.6 (tags/v3.10.6:9c7b4bd, Aug  1 2022, 21:53:49) [MSC v.1932 64 bit (AMD64)]"
  },
  "orig_nbformat": 4,
  "vscode": {
   "interpreter": {
    "hash": "00e9a723e37b0f3d59d306f59cb59c5ddb897ed6e8891f14d4665f4bf888f697"
   }
  }
 },
 "nbformat": 4,
 "nbformat_minor": 2
}
